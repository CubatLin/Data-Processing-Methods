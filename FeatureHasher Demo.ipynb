{
 "cells": [
  {
   "cell_type": "code",
   "execution_count": 7,
   "metadata": {},
   "outputs": [],
   "source": [
    "import pandas as pd\n",
    "from sklearn.feature_extraction import FeatureHasher\n",
    "\n",
    "#Create dataframe\n",
    "df = pd.DataFrame({\"col1\": [1,1,2,4,4,5],\n",
    "                \"col2\": [2,1,4,6,6,3],\n",
    "                \"colType\":['A','B','C','D','A','C']})"
   ]
  },
  {
   "cell_type": "code",
   "execution_count": 12,
   "metadata": {},
   "outputs": [
    {
     "name": "stdout",
     "output_type": "stream",
     "text": [
      "  (0, 4)\t1.0\n",
      "  (1, 2)\t-1.0\n",
      "  (2, 3)\t-1.0\n",
      "  (3, 2)\t1.0\n",
      "  (4, 4)\t1.0\n",
      "  (5, 3)\t-1.0\n",
      "     0    1    2    3    4    5  col1  col2 colType\n",
      "0  0.0  0.0  0.0  0.0  1.0  0.0     1     2       A\n",
      "1  0.0  0.0 -1.0  0.0  0.0  0.0     1     1       B\n",
      "2  0.0  0.0  0.0 -1.0  0.0  0.0     2     4       C\n",
      "3  0.0  0.0  1.0  0.0  0.0  0.0     4     6       D\n",
      "4  0.0  0.0  0.0  0.0  1.0  0.0     4     6       A\n",
      "5  0.0  0.0  0.0 -1.0  0.0  0.0     5     3       C\n"
     ]
    }
   ],
   "source": [
    "#Tyep 1:\n",
    "#4 differnt types of feature in colType\n",
    "#haser by 6\n",
    "\n",
    "fh = FeatureHasher(n_features=6, input_type='string')\n",
    "sp = fh.fit_transform(df['colType'])\n",
    "print(sp)\n",
    "\n",
    "#compare\n",
    "df1 = pd.DataFrame(sp.toarray())\n",
    "final = pd.concat([df1, df], axis=1)\n",
    "print(final)"
   ]
  },
  {
   "cell_type": "code",
   "execution_count": 13,
   "metadata": {},
   "outputs": [
    {
     "name": "stdout",
     "output_type": "stream",
     "text": [
      "  (0, 1)\t1.0\n",
      "  (1, 2)\t-1.0\n",
      "  (2, 0)\t-1.0\n",
      "  (3, 2)\t1.0\n",
      "  (4, 1)\t1.0\n",
      "  (5, 0)\t-1.0\n",
      "     0    1    2  col1  col2 colType\n",
      "0  0.0  1.0  0.0     1     2       A\n",
      "1  0.0  0.0 -1.0     1     1       B\n",
      "2 -1.0  0.0  0.0     2     4       C\n",
      "3  0.0  0.0  1.0     4     6       D\n",
      "4  0.0  1.0  0.0     4     6       A\n",
      "5 -1.0  0.0  0.0     5     3       C\n"
     ]
    }
   ],
   "source": [
    "#Tyep 2:\n",
    "#4 differnt types of feature in colType\n",
    "#haser by 3\n",
    "\n",
    "fh = FeatureHasher(n_features=3, input_type='string')\n",
    "sp = fh.fit_transform(df['colType'])\n",
    "print(sp)\n",
    "\n",
    "#compare\n",
    "df1 = pd.DataFrame(sp.toarray())\n",
    "final = pd.concat([df1, df], axis=1)\n",
    "print(final)"
   ]
  },
  {
   "cell_type": "code",
   "execution_count": 14,
   "metadata": {},
   "outputs": [
    {
     "name": "stdout",
     "output_type": "stream",
     "text": [
      "  (0, 2)\t1.0\n",
      "  (1, 2)\t-1.0\n",
      "  (2, 1)\t-1.0\n",
      "  (3, 2)\t1.0\n",
      "  (4, 2)\t1.0\n",
      "  (5, 1)\t-1.0\n",
      "     0    1    2    3  col1  col2 colType\n",
      "0  0.0  0.0  1.0  0.0     1     2       A\n",
      "1  0.0  0.0 -1.0  0.0     1     1       B\n",
      "2  0.0 -1.0  0.0  0.0     2     4       C\n",
      "3  0.0  0.0  1.0  0.0     4     6       D\n",
      "4  0.0  0.0  1.0  0.0     4     6       A\n",
      "5  0.0 -1.0  0.0  0.0     5     3       C\n"
     ]
    }
   ],
   "source": [
    "#Tyep 3:\n",
    "#4 differnt types of feature in colType\n",
    "#haser by 1\n",
    "\n",
    "fh = FeatureHasher(n_features=4, input_type='string')\n",
    "sp = fh.fit_transform(df['colType'])\n",
    "print(sp)\n",
    "\n",
    "#compare\n",
    "df1 = pd.DataFrame(sp.toarray())\n",
    "final = pd.concat([df1, df], axis=1)\n",
    "print(final)"
   ]
  },
  {
   "cell_type": "raw",
   "metadata": {},
   "source": [
    "NOTE1:\n",
    "At type 1 & 2, FeatureHaser can give a unique solution, but not in type 3.\n",
    "That's because if there's 4 types of feature, the less dimension to get a unique solution is log3(6) -> should be 2\n"
   ]
  },
  {
   "cell_type": "markdown",
   "metadata": {},
   "source": [
    "NOTE2:\n",
    "Feature Hasher can be a tool of dimensionality reduction - if you realize it in a correctly way."
   ]
  }
 ],
 "metadata": {
  "kernelspec": {
   "display_name": "Python 3",
   "language": "python",
   "name": "python3"
  },
  "language_info": {
   "codemirror_mode": {
    "name": "ipython",
    "version": 3
   },
   "file_extension": ".py",
   "mimetype": "text/x-python",
   "name": "python",
   "nbconvert_exporter": "python",
   "pygments_lexer": "ipython3",
   "version": "3.7.0"
  }
 },
 "nbformat": 4,
 "nbformat_minor": 2
}
