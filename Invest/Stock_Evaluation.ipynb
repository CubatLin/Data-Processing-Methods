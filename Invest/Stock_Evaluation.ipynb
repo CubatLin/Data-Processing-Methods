{
 "cells": [
  {
   "cell_type": "markdown",
   "metadata": {},
   "source": [
    "### Model精神：看到開盤價買，以靠近開盤價的價格買入，然後隔日最低價賣出\n",
    "* 看到今日開盤價，用昨日以前的變數，猜今天收盤是否高於今日開盤\n",
    "* 如果高的話，做隔日沖，賣在明天最低點，看績效表現如何"
   ]
  },
  {
   "cell_type": "code",
   "execution_count": 46,
   "metadata": {
    "colab": {
     "base_uri": "https://localhost:8080/",
     "height": 384
    },
    "id": "9vodWTZCa5XP",
    "outputId": "d00a1e4d-fe03-4a7d-a2de-f0bb89ad74c7"
   },
   "outputs": [],
   "source": [
    "import pandas as pd\n",
    "import numpy as np\n",
    "\n",
    "test_data = pd.read_csv('')"
   ]
  },
  {
   "cell_type": "code",
   "execution_count": 47,
   "metadata": {
    "id": "K6JoeElxbttO"
   },
   "outputs": [],
   "source": [
    "test_data = test_data.sort_values(['StockID','TxDate'])"
   ]
  },
  {
   "cell_type": "code",
   "execution_count": 48,
   "metadata": {
    "id": "KTazZaSiehvb"
   },
   "outputs": [],
   "source": [
    "test_data['Close_Return'] = test_data.groupby(['StockID'])['Close'].apply(\n",
    "    lambda x: x / x.shift(1) - 1)"
   ]
  },
  {
   "cell_type": "code",
   "execution_count": 49,
   "metadata": {},
   "outputs": [
    {
     "data": {
      "text/html": [
       "<div>\n",
       "<style scoped>\n",
       "    .dataframe tbody tr th:only-of-type {\n",
       "        vertical-align: middle;\n",
       "    }\n",
       "\n",
       "    .dataframe tbody tr th {\n",
       "        vertical-align: top;\n",
       "    }\n",
       "\n",
       "    .dataframe thead th {\n",
       "        text-align: right;\n",
       "    }\n",
       "</style>\n",
       "<table border=\"1\" class=\"dataframe\">\n",
       "  <thead>\n",
       "    <tr style=\"text-align: right;\">\n",
       "      <th></th>\n",
       "      <th>TxDate</th>\n",
       "      <th>StockID</th>\n",
       "      <th>Open</th>\n",
       "      <th>High</th>\n",
       "      <th>Low</th>\n",
       "      <th>Close</th>\n",
       "      <th>Volume</th>\n",
       "      <th>有價證券名稱</th>\n",
       "      <th>Close_Return</th>\n",
       "      <th>Open_Return</th>\n",
       "      <th>...</th>\n",
       "      <th>K_Dis_25</th>\n",
       "      <th>K_Group_30</th>\n",
       "      <th>K_Dis_30</th>\n",
       "      <th>K_Group_33</th>\n",
       "      <th>K_Dis_33</th>\n",
       "      <th>K_Group_37</th>\n",
       "      <th>K_Dis_37</th>\n",
       "      <th>K_Group_45</th>\n",
       "      <th>K_Dis_45</th>\n",
       "      <th>Pred_prob</th>\n",
       "    </tr>\n",
       "  </thead>\n",
       "  <tbody>\n",
       "    <tr>\n",
       "      <th>0</th>\n",
       "      <td>2018-01-02</td>\n",
       "      <td>1101</td>\n",
       "      <td>29.490400</td>\n",
       "      <td>29.611799</td>\n",
       "      <td>29.166800</td>\n",
       "      <td>29.571301</td>\n",
       "      <td>16931822.0</td>\n",
       "      <td>台泥</td>\n",
       "      <td>NaN</td>\n",
       "      <td>0.006904</td>\n",
       "      <td>...</td>\n",
       "      <td>21.194</td>\n",
       "      <td>26</td>\n",
       "      <td>12.215</td>\n",
       "      <td>24</td>\n",
       "      <td>15.165</td>\n",
       "      <td>7</td>\n",
       "      <td>23.398</td>\n",
       "      <td>8</td>\n",
       "      <td>5.334</td>\n",
       "      <td>1.912900e-01</td>\n",
       "    </tr>\n",
       "    <tr>\n",
       "      <th>1</th>\n",
       "      <td>2018-01-03</td>\n",
       "      <td>1101</td>\n",
       "      <td>29.530899</td>\n",
       "      <td>30.218599</td>\n",
       "      <td>29.328600</td>\n",
       "      <td>30.218599</td>\n",
       "      <td>24670238.0</td>\n",
       "      <td>台泥</td>\n",
       "      <td>0.021889</td>\n",
       "      <td>0.001373</td>\n",
       "      <td>...</td>\n",
       "      <td>20.199</td>\n",
       "      <td>26</td>\n",
       "      <td>11.775</td>\n",
       "      <td>24</td>\n",
       "      <td>14.810</td>\n",
       "      <td>7</td>\n",
       "      <td>22.356</td>\n",
       "      <td>8</td>\n",
       "      <td>4.663</td>\n",
       "      <td>8.468853e-01</td>\n",
       "    </tr>\n",
       "    <tr>\n",
       "      <th>2</th>\n",
       "      <td>2018-01-04</td>\n",
       "      <td>1101</td>\n",
       "      <td>30.218599</td>\n",
       "      <td>30.299500</td>\n",
       "      <td>29.733101</td>\n",
       "      <td>30.097200</td>\n",
       "      <td>18450584.0</td>\n",
       "      <td>台泥</td>\n",
       "      <td>-0.004017</td>\n",
       "      <td>0.023287</td>\n",
       "      <td>...</td>\n",
       "      <td>17.811</td>\n",
       "      <td>26</td>\n",
       "      <td>12.526</td>\n",
       "      <td>24</td>\n",
       "      <td>15.583</td>\n",
       "      <td>7</td>\n",
       "      <td>20.015</td>\n",
       "      <td>8</td>\n",
       "      <td>5.259</td>\n",
       "      <td>7.366920e-02</td>\n",
       "    </tr>\n",
       "    <tr>\n",
       "      <th>3</th>\n",
       "      <td>2018-01-05</td>\n",
       "      <td>1101</td>\n",
       "      <td>30.339899</td>\n",
       "      <td>30.339899</td>\n",
       "      <td>29.975901</td>\n",
       "      <td>30.178101</td>\n",
       "      <td>43923316.0</td>\n",
       "      <td>台泥</td>\n",
       "      <td>0.002688</td>\n",
       "      <td>0.004014</td>\n",
       "      <td>...</td>\n",
       "      <td>16.885</td>\n",
       "      <td>26</td>\n",
       "      <td>13.604</td>\n",
       "      <td>24</td>\n",
       "      <td>16.590</td>\n",
       "      <td>7</td>\n",
       "      <td>19.034</td>\n",
       "      <td>8</td>\n",
       "      <td>6.544</td>\n",
       "      <td>1.590054e-08</td>\n",
       "    </tr>\n",
       "    <tr>\n",
       "      <th>4</th>\n",
       "      <td>2018-01-08</td>\n",
       "      <td>1101</td>\n",
       "      <td>30.259001</td>\n",
       "      <td>30.987200</td>\n",
       "      <td>30.097200</td>\n",
       "      <td>30.906300</td>\n",
       "      <td>28008482.0</td>\n",
       "      <td>台泥</td>\n",
       "      <td>0.024130</td>\n",
       "      <td>-0.002666</td>\n",
       "      <td>...</td>\n",
       "      <td>15.680</td>\n",
       "      <td>26</td>\n",
       "      <td>13.964</td>\n",
       "      <td>24</td>\n",
       "      <td>17.006</td>\n",
       "      <td>7</td>\n",
       "      <td>17.755</td>\n",
       "      <td>8</td>\n",
       "      <td>6.771</td>\n",
       "      <td>9.139091e-01</td>\n",
       "    </tr>\n",
       "  </tbody>\n",
       "</table>\n",
       "<p>5 rows × 83 columns</p>\n",
       "</div>"
      ],
      "text/plain": [
       "       TxDate  StockID       Open       High        Low      Close  \\\n",
       "0  2018-01-02     1101  29.490400  29.611799  29.166800  29.571301   \n",
       "1  2018-01-03     1101  29.530899  30.218599  29.328600  30.218599   \n",
       "2  2018-01-04     1101  30.218599  30.299500  29.733101  30.097200   \n",
       "3  2018-01-05     1101  30.339899  30.339899  29.975901  30.178101   \n",
       "4  2018-01-08     1101  30.259001  30.987200  30.097200  30.906300   \n",
       "\n",
       "       Volume 有價證券名稱  Close_Return  Open_Return  ...  K_Dis_25  K_Group_30  \\\n",
       "0  16931822.0     台泥           NaN     0.006904  ...    21.194          26   \n",
       "1  24670238.0     台泥      0.021889     0.001373  ...    20.199          26   \n",
       "2  18450584.0     台泥     -0.004017     0.023287  ...    17.811          26   \n",
       "3  43923316.0     台泥      0.002688     0.004014  ...    16.885          26   \n",
       "4  28008482.0     台泥      0.024130    -0.002666  ...    15.680          26   \n",
       "\n",
       "   K_Dis_30  K_Group_33  K_Dis_33  K_Group_37  K_Dis_37  K_Group_45  K_Dis_45  \\\n",
       "0    12.215          24    15.165           7    23.398           8     5.334   \n",
       "1    11.775          24    14.810           7    22.356           8     4.663   \n",
       "2    12.526          24    15.583           7    20.015           8     5.259   \n",
       "3    13.604          24    16.590           7    19.034           8     6.544   \n",
       "4    13.964          24    17.006           7    17.755           8     6.771   \n",
       "\n",
       "      Pred_prob  \n",
       "0  1.912900e-01  \n",
       "1  8.468853e-01  \n",
       "2  7.366920e-02  \n",
       "3  1.590054e-08  \n",
       "4  9.139091e-01  \n",
       "\n",
       "[5 rows x 83 columns]"
      ]
     },
     "execution_count": 49,
     "metadata": {},
     "output_type": "execute_result"
    }
   ],
   "source": [
    "test_data.head(5)"
   ]
  },
  {
   "cell_type": "code",
   "execution_count": 154,
   "metadata": {},
   "outputs": [
    {
     "data": {
      "text/plain": [
       "'2020-10-14'"
      ]
     },
     "execution_count": 154,
     "metadata": {},
     "output_type": "execute_result"
    }
   ],
   "source": [
    "max(test_data['TxDate'])"
   ]
  },
  {
   "cell_type": "markdown",
   "metadata": {},
   "source": [
    "### Performance KPI\n",
    "* 以投資組合來講，需要用累積報酬來衡量資產增長，記錄時間穩健成長才算"
   ]
  },
  {
   "cell_type": "code",
   "execution_count": 51,
   "metadata": {
    "id": "0oTV0zfHbK7q"
   },
   "outputs": [],
   "source": [
    "#收盤價累積報酬\n",
    "test_data['Close_return_3sum'] = test_data.groupby(['StockID'])['Close_Return'].rolling(3).sum().reset_index(0,drop=True)\n",
    "\n",
    "#判斷訊號發出後,3日內累積報酬"
   ]
  },
  {
   "cell_type": "code",
   "execution_count": 52,
   "metadata": {
    "id": "Vdw1S249dPgS"
   },
   "outputs": [],
   "source": [
    "#判斷訊號發出後,3日內平均報酬\n",
    "test_data['Close_return_3avg'] = test_data.groupby(['StockID'])['Close_Return'].rolling(3).mean().reset_index(0,drop=True)"
   ]
  },
  {
   "cell_type": "code",
   "execution_count": 53,
   "metadata": {
    "colab": {
     "base_uri": "https://localhost:8080/",
     "height": 347
    },
    "id": "vNjl72XYfu7l",
    "outputId": "f588129a-7e39-4bb2-ce20-2daafda7ac64"
   },
   "outputs": [
    {
     "data": {
      "text/html": [
       "<div>\n",
       "<style scoped>\n",
       "    .dataframe tbody tr th:only-of-type {\n",
       "        vertical-align: middle;\n",
       "    }\n",
       "\n",
       "    .dataframe tbody tr th {\n",
       "        vertical-align: top;\n",
       "    }\n",
       "\n",
       "    .dataframe thead th {\n",
       "        text-align: right;\n",
       "    }\n",
       "</style>\n",
       "<table border=\"1\" class=\"dataframe\">\n",
       "  <thead>\n",
       "    <tr style=\"text-align: right;\">\n",
       "      <th></th>\n",
       "      <th>TxDate</th>\n",
       "      <th>有價證券名稱</th>\n",
       "      <th>Close_Return</th>\n",
       "      <th>Close_return_3sum</th>\n",
       "      <th>Close_return_3avg</th>\n",
       "      <th>Pred_prob</th>\n",
       "    </tr>\n",
       "  </thead>\n",
       "  <tbody>\n",
       "    <tr>\n",
       "      <th>0</th>\n",
       "      <td>2018-01-02</td>\n",
       "      <td>台泥</td>\n",
       "      <td>NaN</td>\n",
       "      <td>NaN</td>\n",
       "      <td>NaN</td>\n",
       "      <td>1.912900e-01</td>\n",
       "    </tr>\n",
       "    <tr>\n",
       "      <th>1</th>\n",
       "      <td>2018-01-03</td>\n",
       "      <td>台泥</td>\n",
       "      <td>0.021889</td>\n",
       "      <td>NaN</td>\n",
       "      <td>NaN</td>\n",
       "      <td>8.468853e-01</td>\n",
       "    </tr>\n",
       "    <tr>\n",
       "      <th>2</th>\n",
       "      <td>2018-01-04</td>\n",
       "      <td>台泥</td>\n",
       "      <td>-0.004017</td>\n",
       "      <td>NaN</td>\n",
       "      <td>NaN</td>\n",
       "      <td>7.366920e-02</td>\n",
       "    </tr>\n",
       "    <tr>\n",
       "      <th>3</th>\n",
       "      <td>2018-01-05</td>\n",
       "      <td>台泥</td>\n",
       "      <td>0.002688</td>\n",
       "      <td>0.020560</td>\n",
       "      <td>0.006853</td>\n",
       "      <td>1.590054e-08</td>\n",
       "    </tr>\n",
       "    <tr>\n",
       "      <th>4</th>\n",
       "      <td>2018-01-08</td>\n",
       "      <td>台泥</td>\n",
       "      <td>0.024130</td>\n",
       "      <td>0.022801</td>\n",
       "      <td>0.007600</td>\n",
       "      <td>9.139091e-01</td>\n",
       "    </tr>\n",
       "    <tr>\n",
       "      <th>5</th>\n",
       "      <td>2018-01-09</td>\n",
       "      <td>台泥</td>\n",
       "      <td>0.002618</td>\n",
       "      <td>0.029436</td>\n",
       "      <td>0.009812</td>\n",
       "      <td>4.009083e-01</td>\n",
       "    </tr>\n",
       "    <tr>\n",
       "      <th>6</th>\n",
       "      <td>2018-01-10</td>\n",
       "      <td>台泥</td>\n",
       "      <td>0.003915</td>\n",
       "      <td>0.030662</td>\n",
       "      <td>0.010221</td>\n",
       "      <td>4.288410e-01</td>\n",
       "    </tr>\n",
       "    <tr>\n",
       "      <th>7</th>\n",
       "      <td>2018-01-11</td>\n",
       "      <td>台泥</td>\n",
       "      <td>-0.024707</td>\n",
       "      <td>-0.018175</td>\n",
       "      <td>-0.006058</td>\n",
       "      <td>1.109711e-02</td>\n",
       "    </tr>\n",
       "    <tr>\n",
       "      <th>8</th>\n",
       "      <td>2018-01-12</td>\n",
       "      <td>台泥</td>\n",
       "      <td>0.002666</td>\n",
       "      <td>-0.018126</td>\n",
       "      <td>-0.006042</td>\n",
       "      <td>2.824402e-01</td>\n",
       "    </tr>\n",
       "    <tr>\n",
       "      <th>9</th>\n",
       "      <td>2018-01-15</td>\n",
       "      <td>台泥</td>\n",
       "      <td>0.006650</td>\n",
       "      <td>-0.015391</td>\n",
       "      <td>-0.005130</td>\n",
       "      <td>3.707136e-01</td>\n",
       "    </tr>\n",
       "  </tbody>\n",
       "</table>\n",
       "</div>"
      ],
      "text/plain": [
       "       TxDate 有價證券名稱  Close_Return  Close_return_3sum  Close_return_3avg  \\\n",
       "0  2018-01-02     台泥           NaN                NaN                NaN   \n",
       "1  2018-01-03     台泥      0.021889                NaN                NaN   \n",
       "2  2018-01-04     台泥     -0.004017                NaN                NaN   \n",
       "3  2018-01-05     台泥      0.002688           0.020560           0.006853   \n",
       "4  2018-01-08     台泥      0.024130           0.022801           0.007600   \n",
       "5  2018-01-09     台泥      0.002618           0.029436           0.009812   \n",
       "6  2018-01-10     台泥      0.003915           0.030662           0.010221   \n",
       "7  2018-01-11     台泥     -0.024707          -0.018175          -0.006058   \n",
       "8  2018-01-12     台泥      0.002666          -0.018126          -0.006042   \n",
       "9  2018-01-15     台泥      0.006650          -0.015391          -0.005130   \n",
       "\n",
       "      Pred_prob  \n",
       "0  1.912900e-01  \n",
       "1  8.468853e-01  \n",
       "2  7.366920e-02  \n",
       "3  1.590054e-08  \n",
       "4  9.139091e-01  \n",
       "5  4.009083e-01  \n",
       "6  4.288410e-01  \n",
       "7  1.109711e-02  \n",
       "8  2.824402e-01  \n",
       "9  3.707136e-01  "
      ]
     },
     "execution_count": 53,
     "metadata": {},
     "output_type": "execute_result"
    }
   ],
   "source": [
    "test_data[['TxDate', '有價證券名稱','Close_Return','Close_return_3sum','Close_return_3avg','Pred_prob' ]].head(10)"
   ]
  },
  {
   "cell_type": "code",
   "execution_count": 84,
   "metadata": {
    "id": "eWWeKR0ts2um"
   },
   "outputs": [],
   "source": [
    "lookup_col = ['TxDate', 'StockID','有價證券名稱','Open_pre','Close_pre',\\\n",
    "              'Open', 'High', 'Low', 'Close',\\\n",
    "              'Close_Return','Close_return_3sum','Close_return_3avg','Pred_prob']"
   ]
  },
  {
   "cell_type": "code",
   "execution_count": 85,
   "metadata": {
    "colab": {
     "base_uri": "https://localhost:8080/",
     "height": 407
    },
    "id": "5G4kypK_E2aG",
    "outputId": "4c4085ea-a3f9-49b1-aad6-cd80a15df82e"
   },
   "outputs": [],
   "source": [
    "test_data_pf = test_data[lookup_col].dropna(axis=0)"
   ]
  },
  {
   "cell_type": "markdown",
   "metadata": {},
   "source": [
    "### Distribution of Pred Prob"
   ]
  },
  {
   "cell_type": "code",
   "execution_count": 86,
   "metadata": {},
   "outputs": [
    {
     "name": "stderr",
     "output_type": "stream",
     "text": [
      "/opt/anaconda3/lib/python3.8/site-packages/seaborn/distributions.py:2557: FutureWarning: `distplot` is a deprecated function and will be removed in a future version. Please adapt your code to use either `displot` (a figure-level function with similar flexibility) or `histplot` (an axes-level function for histograms).\n",
      "  warnings.warn(msg, FutureWarning)\n"
     ]
    },
    {
     "data": {
      "text/plain": [
       "<AxesSubplot:xlabel='Pred_prob', ylabel='Density'>"
      ]
     },
     "execution_count": 86,
     "metadata": {},
     "output_type": "execute_result"
    },
    {
     "data": {
      "image/png": "[encoded data removed]",
      "text/plain": [
       "<Figure size 864x576 with 1 Axes>"
      ]
     },
     "metadata": {},
     "output_type": "display_data"
    }
   ],
   "source": [
    "import matplotlib.pyplot as plt\n",
    "import seaborn as sns\n",
    "sns.set(rc={'figure.figsize':(12,8)})\n",
    "sns.distplot(test_data_pf['Pred_prob'])"
   ]
  },
  {
   "cell_type": "markdown",
   "metadata": {},
   "source": [
    "分三群看預測上漲機率大於0.85的，作為一個Group"
   ]
  },
  {
   "cell_type": "code",
   "execution_count": 87,
   "metadata": {},
   "outputs": [],
   "source": [
    "#Group\n",
    "test_data_pf['if_pos']=np.where(test_data_pf['Pred_prob']>0.85,1,0)\n",
    "test_data_pf['if_med']= np.where((0.45<test_data_pf['Pred_prob'])&(test_data_pf['Pred_prob']<0.55),1,0)\n",
    "test_data_pf['if_neg']=np.where(test_data_pf['Pred_prob']<0.15,1,0)"
   ]
  },
  {
   "cell_type": "markdown",
   "metadata": {},
   "source": [
    "### 製作賣出訊號"
   ]
  },
  {
   "cell_type": "code",
   "execution_count": 58,
   "metadata": {
    "id": "Lhr0T8DCf_v_"
   },
   "outputs": [],
   "source": [
    "##Create Group\n",
    "test_data['pos_3'] = test_data.groupby(['StockID'])['if_pos'].shift(3)\n",
    "test_data['med_3'] = test_data.groupby(['StockID'])['if_med'].shift(3)\n",
    "test_data['neg_3'] = test_data.groupby(['StockID'])['if_neg'].shift(3)"
   ]
  },
  {
   "cell_type": "code",
   "execution_count": 114,
   "metadata": {
    "id": "msg1jrkzfUU7"
   },
   "outputs": [],
   "source": [
    "test_neg_gp = test_data[test_data['neg_3']==1].reset_index(drop=True)\n",
    "test_med_gp = test_data[test_data['med_3']==1].reset_index(drop=True)\n",
    "test_pos_gp = test_data[test_data['pos_3']==1].reset_index(drop=True)"
   ]
  },
  {
   "cell_type": "code",
   "execution_count": 116,
   "metadata": {
    "id": "aXQqBXGjsx-r"
   },
   "outputs": [],
   "source": [
    "L = test_pos_gp[lookup_col]"
   ]
  },
  {
   "cell_type": "code",
   "execution_count": 117,
   "metadata": {
    "colab": {
     "base_uri": "https://localhost:8080/"
    },
    "id": "OFTgV08XDlcz",
    "outputId": "f7a14c7a-6d4c-41d3-9964-94a425e37cec"
   },
   "outputs": [
    {
     "data": {
      "text/plain": [
       "Index(['TxDate', 'StockID', '有價證券名稱', 'Open_pre', 'Close_pre', 'Open', 'High',\n",
       "       'Low', 'Close', 'Close_Return', 'Close_return_3sum',\n",
       "       'Close_return_3avg', 'Pred_prob'],\n",
       "      dtype='object')"
      ]
     },
     "execution_count": 117,
     "metadata": {},
     "output_type": "execute_result"
    }
   ],
   "source": [
    "L.columns"
   ]
  },
  {
   "cell_type": "markdown",
   "metadata": {},
   "source": [
    "### Difference of Yearly Return between 3 Groups"
   ]
  },
  {
   "cell_type": "code",
   "execution_count": 118,
   "metadata": {
    "colab": {
     "base_uri": "https://localhost:8080/"
    },
    "id": "9Cv_F_tPnPYt",
    "outputId": "51bae1d1-0552-4d3e-dbf7-788d46f0888a"
   },
   "outputs": [
    {
     "data": {
      "text/plain": [
       "0.37980576980810904"
      ]
     },
     "execution_count": 118,
     "metadata": {},
     "output_type": "execute_result"
    }
   ],
   "source": [
    "sum(test_data[test_data['pos_3']==1]['Close_return_3sum'])\\\n",
    "/len(test_data[test_data['pos_3']==1]['Close_return_3sum'])*250"
   ]
  },
  {
   "cell_type": "code",
   "execution_count": 119,
   "metadata": {
    "colab": {
     "base_uri": "https://localhost:8080/"
    },
    "id": "c0yb95xqkXyu",
    "outputId": "092e0590-26ff-4477-8a8c-cdb977e10d29"
   },
   "outputs": [
    {
     "data": {
      "text/plain": [
       "0.2712386030334628"
      ]
     },
     "execution_count": 119,
     "metadata": {},
     "output_type": "execute_result"
    }
   ],
   "source": [
    "sum(test_data[test_data['med_3']==1]['Close_return_3sum'])\\\n",
    "/len(test_data[test_data['med_3']==1]['Close_return_3sum'])*250"
   ]
  },
  {
   "cell_type": "code",
   "execution_count": 120,
   "metadata": {
    "colab": {
     "base_uri": "https://localhost:8080/"
    },
    "id": "1QZA9_KPkEjk",
    "outputId": "e8a98e09-9320-4a84-c8ea-9a230c4d9ad8"
   },
   "outputs": [
    {
     "data": {
      "text/plain": [
       "0.03072286614209577"
      ]
     },
     "execution_count": 120,
     "metadata": {},
     "output_type": "execute_result"
    }
   ],
   "source": [
    "sum(test_data[test_data['neg_3']==1]['Close_return_3sum'])\\\n",
    "/len(test_data[test_data['neg_3']==1]['Close_return_3sum'])*250"
   ]
  },
  {
   "cell_type": "markdown",
   "metadata": {
    "id": "XrWJxEcJhUBj"
   },
   "source": [
    "# Strategy : 隔日沖 \n",
    "買在開盤,賣在隔日低點"
   ]
  },
  {
   "cell_type": "code",
   "execution_count": 129,
   "metadata": {
    "id": "RpBiMEfyhFgW"
   },
   "outputs": [],
   "source": [
    "##Create Group\n",
    "test_data_pf['pos_1'] = test_data_pf.groupby(['StockID'])['if_pos'].shift(1)\n",
    "test_data_pf['med_1'] = test_data_pf.groupby(['StockID'])['if_med'].shift(1)\n",
    "test_data_pf['neg_1'] = test_data_pf.groupby(['StockID'])['if_neg'].shift(1)"
   ]
  },
  {
   "cell_type": "code",
   "execution_count": 130,
   "metadata": {
    "colab": {
     "base_uri": "https://localhost:8080/"
    },
    "id": "QBL_T4qVqyuH",
    "outputId": "5a6479ae-a9c5-45f0-dba3-925844c2ce95"
   },
   "outputs": [
    {
     "data": {
      "text/plain": [
       "Index(['TxDate', 'StockID', '有價證券名稱', 'Open_pre', 'Close_pre', 'Open', 'High',\n",
       "       'Low', 'Close', 'Close_Return', 'Close_return_3sum',\n",
       "       'Close_return_3avg', 'Pred_prob', 'if_pos', 'if_med', 'if_neg', 'pos_1',\n",
       "       'med_1', 'neg_1', 'S2_Return'],\n",
       "      dtype='object')"
      ]
     },
     "execution_count": 130,
     "metadata": {},
     "output_type": "execute_result"
    }
   ],
   "source": [
    "test_data_pf.columns"
   ]
  },
  {
   "cell_type": "code",
   "execution_count": 131,
   "metadata": {
    "id": "X6kv65yEvy4a"
   },
   "outputs": [],
   "source": [
    "#今日高-昨日開(訊號出) \n",
    "#test_data['S2_Return'] = (test_data['High']+test_data['Low'] )/ (2*test_data['Open_pre']) - 1\n",
    "test_data_pf['S2_Return'] = test_data_pf['Low']/ test_data_pf['Open_pre'] - 1"
   ]
  },
  {
   "cell_type": "markdown",
   "metadata": {},
   "source": [
    "### 示範 台股股災 2020/3/2~2020/4\n",
    "* S2_Return：買開盤，隔天最低賣掉\n",
    "* Case 1: 多\n",
    "    1. 2020-03-02出訊號(if_pos==1),買入,下一個交易日賣掉(2020-03-02 pos_1)\n",
    "    * 大概獲利 0.026570\n",
    "\n",
    "* Case 2: 空\n",
    "    1. 2020-03-18出訊號(if_neg==1),買入,下一個交易日賣掉(2020-03-19 neg_1)\n",
    "    2. 2020-03-19出訊號(if_neg==1),買入,下一個交易日賣掉(2018-03-20 neg_1)\n",
    "    *  兩次大概獲利 -0.105900+ (-0.021491)"
   ]
  },
  {
   "cell_type": "code",
   "execution_count": 142,
   "metadata": {
    "colab": {
     "base_uri": "https://localhost:8080/",
     "height": 497
    },
    "id": "XYZxfgo1x5Wy",
    "outputId": "c54974dc-bdb4-46ce-8122-b1d41d838992"
   },
   "outputs": [
    {
     "data": {
      "text/html": [
       "<div>\n",
       "<style scoped>\n",
       "    .dataframe tbody tr th:only-of-type {\n",
       "        vertical-align: middle;\n",
       "    }\n",
       "\n",
       "    .dataframe tbody tr th {\n",
       "        vertical-align: top;\n",
       "    }\n",
       "\n",
       "    .dataframe thead th {\n",
       "        text-align: right;\n",
       "    }\n",
       "</style>\n",
       "<table border=\"1\" class=\"dataframe\">\n",
       "  <thead>\n",
       "    <tr style=\"text-align: right;\">\n",
       "      <th></th>\n",
       "      <th>TxDate</th>\n",
       "      <th>StockID</th>\n",
       "      <th>有價證券名稱</th>\n",
       "      <th>Open_pre</th>\n",
       "      <th>Open</th>\n",
       "      <th>High</th>\n",
       "      <th>Low</th>\n",
       "      <th>Close</th>\n",
       "      <th>S2_Return</th>\n",
       "      <th>if_neg</th>\n",
       "      <th>if_med</th>\n",
       "      <th>if_pos</th>\n",
       "      <th>pos_1</th>\n",
       "      <th>med_1</th>\n",
       "      <th>neg_1</th>\n",
       "    </tr>\n",
       "  </thead>\n",
       "  <tbody>\n",
       "    <tr>\n",
       "      <th>520</th>\n",
       "      <td>2020-03-02</td>\n",
       "      <td>1101</td>\n",
       "      <td>台泥</td>\n",
       "      <td>40.189899</td>\n",
       "      <td>39.428001</td>\n",
       "      <td>40.570801</td>\n",
       "      <td>39.428001</td>\n",
       "      <td>40.237499</td>\n",
       "      <td>-0.018957</td>\n",
       "      <td>0</td>\n",
       "      <td>0</td>\n",
       "      <td>1</td>\n",
       "      <td>0.0</td>\n",
       "      <td>0.0</td>\n",
       "      <td>0.0</td>\n",
       "    </tr>\n",
       "    <tr>\n",
       "      <th>521</th>\n",
       "      <td>2020-03-03</td>\n",
       "      <td>1101</td>\n",
       "      <td>台泥</td>\n",
       "      <td>39.428001</td>\n",
       "      <td>40.570801</td>\n",
       "      <td>40.856499</td>\n",
       "      <td>40.475601</td>\n",
       "      <td>40.618401</td>\n",
       "      <td>0.026570</td>\n",
       "      <td>0</td>\n",
       "      <td>0</td>\n",
       "      <td>0</td>\n",
       "      <td>1.0</td>\n",
       "      <td>0.0</td>\n",
       "      <td>0.0</td>\n",
       "    </tr>\n",
       "    <tr>\n",
       "      <th>522</th>\n",
       "      <td>2020-03-04</td>\n",
       "      <td>1101</td>\n",
       "      <td>台泥</td>\n",
       "      <td>40.570801</td>\n",
       "      <td>40.570801</td>\n",
       "      <td>40.904099</td>\n",
       "      <td>40.570801</td>\n",
       "      <td>40.808899</td>\n",
       "      <td>0.000000</td>\n",
       "      <td>0</td>\n",
       "      <td>0</td>\n",
       "      <td>0</td>\n",
       "      <td>0.0</td>\n",
       "      <td>0.0</td>\n",
       "      <td>0.0</td>\n",
       "    </tr>\n",
       "    <tr>\n",
       "      <th>523</th>\n",
       "      <td>2020-03-05</td>\n",
       "      <td>1101</td>\n",
       "      <td>台泥</td>\n",
       "      <td>40.570801</td>\n",
       "      <td>40.856499</td>\n",
       "      <td>41.237499</td>\n",
       "      <td>40.808899</td>\n",
       "      <td>41.237499</td>\n",
       "      <td>0.005869</td>\n",
       "      <td>0</td>\n",
       "      <td>0</td>\n",
       "      <td>0</td>\n",
       "      <td>0.0</td>\n",
       "      <td>0.0</td>\n",
       "      <td>0.0</td>\n",
       "    </tr>\n",
       "    <tr>\n",
       "      <th>524</th>\n",
       "      <td>2020-03-06</td>\n",
       "      <td>1101</td>\n",
       "      <td>台泥</td>\n",
       "      <td>40.856499</td>\n",
       "      <td>41.142200</td>\n",
       "      <td>41.142200</td>\n",
       "      <td>40.475601</td>\n",
       "      <td>40.808899</td>\n",
       "      <td>-0.009323</td>\n",
       "      <td>0</td>\n",
       "      <td>0</td>\n",
       "      <td>0</td>\n",
       "      <td>0.0</td>\n",
       "      <td>0.0</td>\n",
       "      <td>0.0</td>\n",
       "    </tr>\n",
       "    <tr>\n",
       "      <th>525</th>\n",
       "      <td>2020-03-09</td>\n",
       "      <td>1101</td>\n",
       "      <td>台泥</td>\n",
       "      <td>41.142200</td>\n",
       "      <td>40.189899</td>\n",
       "      <td>40.380299</td>\n",
       "      <td>39.713699</td>\n",
       "      <td>39.856499</td>\n",
       "      <td>-0.034721</td>\n",
       "      <td>1</td>\n",
       "      <td>0</td>\n",
       "      <td>0</td>\n",
       "      <td>0.0</td>\n",
       "      <td>0.0</td>\n",
       "      <td>0.0</td>\n",
       "    </tr>\n",
       "    <tr>\n",
       "      <th>526</th>\n",
       "      <td>2020-03-10</td>\n",
       "      <td>1101</td>\n",
       "      <td>台泥</td>\n",
       "      <td>40.189899</td>\n",
       "      <td>39.237499</td>\n",
       "      <td>39.904202</td>\n",
       "      <td>39.237499</td>\n",
       "      <td>39.618401</td>\n",
       "      <td>-0.023697</td>\n",
       "      <td>0</td>\n",
       "      <td>1</td>\n",
       "      <td>0</td>\n",
       "      <td>0.0</td>\n",
       "      <td>0.0</td>\n",
       "      <td>1.0</td>\n",
       "    </tr>\n",
       "    <tr>\n",
       "      <th>527</th>\n",
       "      <td>2020-03-11</td>\n",
       "      <td>1101</td>\n",
       "      <td>台泥</td>\n",
       "      <td>39.237499</td>\n",
       "      <td>39.999401</td>\n",
       "      <td>40.237499</td>\n",
       "      <td>39.713699</td>\n",
       "      <td>39.808899</td>\n",
       "      <td>0.012136</td>\n",
       "      <td>1</td>\n",
       "      <td>0</td>\n",
       "      <td>0</td>\n",
       "      <td>0.0</td>\n",
       "      <td>1.0</td>\n",
       "      <td>0.0</td>\n",
       "    </tr>\n",
       "    <tr>\n",
       "      <th>528</th>\n",
       "      <td>2020-03-12</td>\n",
       "      <td>1101</td>\n",
       "      <td>台泥</td>\n",
       "      <td>39.999401</td>\n",
       "      <td>39.713699</td>\n",
       "      <td>39.808899</td>\n",
       "      <td>38.475601</td>\n",
       "      <td>38.808899</td>\n",
       "      <td>-0.038096</td>\n",
       "      <td>1</td>\n",
       "      <td>0</td>\n",
       "      <td>0</td>\n",
       "      <td>0.0</td>\n",
       "      <td>0.0</td>\n",
       "      <td>1.0</td>\n",
       "    </tr>\n",
       "    <tr>\n",
       "      <th>529</th>\n",
       "      <td>2020-03-13</td>\n",
       "      <td>1101</td>\n",
       "      <td>台泥</td>\n",
       "      <td>39.713699</td>\n",
       "      <td>37.142300</td>\n",
       "      <td>38.618500</td>\n",
       "      <td>36.475601</td>\n",
       "      <td>38.332699</td>\n",
       "      <td>-0.081536</td>\n",
       "      <td>0</td>\n",
       "      <td>0</td>\n",
       "      <td>1</td>\n",
       "      <td>0.0</td>\n",
       "      <td>0.0</td>\n",
       "      <td>1.0</td>\n",
       "    </tr>\n",
       "    <tr>\n",
       "      <th>530</th>\n",
       "      <td>2020-03-16</td>\n",
       "      <td>1101</td>\n",
       "      <td>台泥</td>\n",
       "      <td>37.142300</td>\n",
       "      <td>38.332699</td>\n",
       "      <td>38.332699</td>\n",
       "      <td>36.999401</td>\n",
       "      <td>36.999401</td>\n",
       "      <td>-0.003847</td>\n",
       "      <td>0</td>\n",
       "      <td>0</td>\n",
       "      <td>0</td>\n",
       "      <td>1.0</td>\n",
       "      <td>0.0</td>\n",
       "      <td>0.0</td>\n",
       "    </tr>\n",
       "    <tr>\n",
       "      <th>531</th>\n",
       "      <td>2020-03-17</td>\n",
       "      <td>1101</td>\n",
       "      <td>台泥</td>\n",
       "      <td>38.332699</td>\n",
       "      <td>36.189899</td>\n",
       "      <td>36.380402</td>\n",
       "      <td>35.666100</td>\n",
       "      <td>35.808998</td>\n",
       "      <td>-0.069565</td>\n",
       "      <td>0</td>\n",
       "      <td>0</td>\n",
       "      <td>0</td>\n",
       "      <td>0.0</td>\n",
       "      <td>0.0</td>\n",
       "      <td>0.0</td>\n",
       "    </tr>\n",
       "    <tr>\n",
       "      <th>532</th>\n",
       "      <td>2020-03-18</td>\n",
       "      <td>1101</td>\n",
       "      <td>台泥</td>\n",
       "      <td>36.189899</td>\n",
       "      <td>35.523300</td>\n",
       "      <td>35.713699</td>\n",
       "      <td>34.285198</td>\n",
       "      <td>34.285198</td>\n",
       "      <td>-0.052631</td>\n",
       "      <td>1</td>\n",
       "      <td>0</td>\n",
       "      <td>0</td>\n",
       "      <td>0.0</td>\n",
       "      <td>0.0</td>\n",
       "      <td>0.0</td>\n",
       "    </tr>\n",
       "    <tr>\n",
       "      <th>533</th>\n",
       "      <td>2020-03-19</td>\n",
       "      <td>1101</td>\n",
       "      <td>台泥</td>\n",
       "      <td>35.523300</td>\n",
       "      <td>33.237598</td>\n",
       "      <td>33.237598</td>\n",
       "      <td>31.761400</td>\n",
       "      <td>31.999500</td>\n",
       "      <td>-0.105900</td>\n",
       "      <td>1</td>\n",
       "      <td>0</td>\n",
       "      <td>0</td>\n",
       "      <td>0.0</td>\n",
       "      <td>0.0</td>\n",
       "      <td>1.0</td>\n",
       "    </tr>\n",
       "    <tr>\n",
       "      <th>534</th>\n",
       "      <td>2020-03-20</td>\n",
       "      <td>1101</td>\n",
       "      <td>台泥</td>\n",
       "      <td>33.237598</td>\n",
       "      <td>32.523300</td>\n",
       "      <td>35.189899</td>\n",
       "      <td>32.523300</td>\n",
       "      <td>35.189899</td>\n",
       "      <td>-0.021491</td>\n",
       "      <td>0</td>\n",
       "      <td>0</td>\n",
       "      <td>1</td>\n",
       "      <td>0.0</td>\n",
       "      <td>0.0</td>\n",
       "      <td>1.0</td>\n",
       "    </tr>\n",
       "    <tr>\n",
       "      <th>535</th>\n",
       "      <td>2020-03-23</td>\n",
       "      <td>1101</td>\n",
       "      <td>台泥</td>\n",
       "      <td>32.523300</td>\n",
       "      <td>34.094700</td>\n",
       "      <td>35.189899</td>\n",
       "      <td>32.856602</td>\n",
       "      <td>34.380402</td>\n",
       "      <td>0.010248</td>\n",
       "      <td>0</td>\n",
       "      <td>0</td>\n",
       "      <td>0</td>\n",
       "      <td>1.0</td>\n",
       "      <td>0.0</td>\n",
       "      <td>0.0</td>\n",
       "    </tr>\n",
       "    <tr>\n",
       "      <th>536</th>\n",
       "      <td>2020-03-24</td>\n",
       "      <td>1101</td>\n",
       "      <td>台泥</td>\n",
       "      <td>34.094700</td>\n",
       "      <td>36.475601</td>\n",
       "      <td>36.856602</td>\n",
       "      <td>35.999500</td>\n",
       "      <td>36.428001</td>\n",
       "      <td>0.055868</td>\n",
       "      <td>1</td>\n",
       "      <td>0</td>\n",
       "      <td>0</td>\n",
       "      <td>0.0</td>\n",
       "      <td>0.0</td>\n",
       "      <td>0.0</td>\n",
       "    </tr>\n",
       "    <tr>\n",
       "      <th>537</th>\n",
       "      <td>2020-03-25</td>\n",
       "      <td>1101</td>\n",
       "      <td>台泥</td>\n",
       "      <td>36.475601</td>\n",
       "      <td>37.189899</td>\n",
       "      <td>37.618500</td>\n",
       "      <td>36.856602</td>\n",
       "      <td>36.951801</td>\n",
       "      <td>0.010445</td>\n",
       "      <td>0</td>\n",
       "      <td>0</td>\n",
       "      <td>0</td>\n",
       "      <td>0.0</td>\n",
       "      <td>0.0</td>\n",
       "      <td>1.0</td>\n",
       "    </tr>\n",
       "    <tr>\n",
       "      <th>538</th>\n",
       "      <td>2020-03-26</td>\n",
       "      <td>1101</td>\n",
       "      <td>台泥</td>\n",
       "      <td>37.189899</td>\n",
       "      <td>37.618500</td>\n",
       "      <td>37.618500</td>\n",
       "      <td>36.713699</td>\n",
       "      <td>36.761299</td>\n",
       "      <td>-0.012805</td>\n",
       "      <td>1</td>\n",
       "      <td>0</td>\n",
       "      <td>0</td>\n",
       "      <td>0.0</td>\n",
       "      <td>0.0</td>\n",
       "      <td>0.0</td>\n",
       "    </tr>\n",
       "    <tr>\n",
       "      <th>539</th>\n",
       "      <td>2020-03-27</td>\n",
       "      <td>1101</td>\n",
       "      <td>台泥</td>\n",
       "      <td>37.618500</td>\n",
       "      <td>37.428001</td>\n",
       "      <td>37.570900</td>\n",
       "      <td>36.951801</td>\n",
       "      <td>37.094700</td>\n",
       "      <td>-0.017723</td>\n",
       "      <td>1</td>\n",
       "      <td>0</td>\n",
       "      <td>0</td>\n",
       "      <td>0.0</td>\n",
       "      <td>0.0</td>\n",
       "      <td>1.0</td>\n",
       "    </tr>\n",
       "    <tr>\n",
       "      <th>540</th>\n",
       "      <td>2020-03-30</td>\n",
       "      <td>1101</td>\n",
       "      <td>台泥</td>\n",
       "      <td>37.428001</td>\n",
       "      <td>36.428001</td>\n",
       "      <td>37.332802</td>\n",
       "      <td>36.189899</td>\n",
       "      <td>37.285099</td>\n",
       "      <td>-0.033080</td>\n",
       "      <td>0</td>\n",
       "      <td>0</td>\n",
       "      <td>1</td>\n",
       "      <td>0.0</td>\n",
       "      <td>0.0</td>\n",
       "      <td>1.0</td>\n",
       "    </tr>\n",
       "    <tr>\n",
       "      <th>541</th>\n",
       "      <td>2020-03-31</td>\n",
       "      <td>1101</td>\n",
       "      <td>台泥</td>\n",
       "      <td>36.428001</td>\n",
       "      <td>37.380402</td>\n",
       "      <td>37.618500</td>\n",
       "      <td>37.142300</td>\n",
       "      <td>37.618500</td>\n",
       "      <td>0.019609</td>\n",
       "      <td>0</td>\n",
       "      <td>0</td>\n",
       "      <td>0</td>\n",
       "      <td>1.0</td>\n",
       "      <td>0.0</td>\n",
       "      <td>0.0</td>\n",
       "    </tr>\n",
       "    <tr>\n",
       "      <th>542</th>\n",
       "      <td>2020-04-01</td>\n",
       "      <td>1101</td>\n",
       "      <td>台泥</td>\n",
       "      <td>37.380402</td>\n",
       "      <td>37.618500</td>\n",
       "      <td>37.666100</td>\n",
       "      <td>37.142300</td>\n",
       "      <td>37.142300</td>\n",
       "      <td>-0.006370</td>\n",
       "      <td>0</td>\n",
       "      <td>0</td>\n",
       "      <td>0</td>\n",
       "      <td>0.0</td>\n",
       "      <td>0.0</td>\n",
       "      <td>0.0</td>\n",
       "    </tr>\n",
       "    <tr>\n",
       "      <th>543</th>\n",
       "      <td>2020-04-06</td>\n",
       "      <td>1101</td>\n",
       "      <td>台泥</td>\n",
       "      <td>37.618500</td>\n",
       "      <td>37.618500</td>\n",
       "      <td>37.666100</td>\n",
       "      <td>36.666100</td>\n",
       "      <td>37.189899</td>\n",
       "      <td>-0.025317</td>\n",
       "      <td>1</td>\n",
       "      <td>0</td>\n",
       "      <td>0</td>\n",
       "      <td>0.0</td>\n",
       "      <td>0.0</td>\n",
       "      <td>0.0</td>\n",
       "    </tr>\n",
       "    <tr>\n",
       "      <th>544</th>\n",
       "      <td>2020-04-07</td>\n",
       "      <td>1101</td>\n",
       "      <td>台泥</td>\n",
       "      <td>37.618500</td>\n",
       "      <td>37.713699</td>\n",
       "      <td>38.189899</td>\n",
       "      <td>37.618500</td>\n",
       "      <td>38.047001</td>\n",
       "      <td>0.000000</td>\n",
       "      <td>0</td>\n",
       "      <td>1</td>\n",
       "      <td>0</td>\n",
       "      <td>0.0</td>\n",
       "      <td>0.0</td>\n",
       "      <td>1.0</td>\n",
       "    </tr>\n",
       "    <tr>\n",
       "      <th>545</th>\n",
       "      <td>2020-04-08</td>\n",
       "      <td>1101</td>\n",
       "      <td>台泥</td>\n",
       "      <td>37.713699</td>\n",
       "      <td>38.094700</td>\n",
       "      <td>39.237499</td>\n",
       "      <td>38.094700</td>\n",
       "      <td>39.047001</td>\n",
       "      <td>0.010102</td>\n",
       "      <td>0</td>\n",
       "      <td>0</td>\n",
       "      <td>1</td>\n",
       "      <td>0.0</td>\n",
       "      <td>1.0</td>\n",
       "      <td>0.0</td>\n",
       "    </tr>\n",
       "    <tr>\n",
       "      <th>546</th>\n",
       "      <td>2020-04-09</td>\n",
       "      <td>1101</td>\n",
       "      <td>台泥</td>\n",
       "      <td>38.094700</td>\n",
       "      <td>39.047001</td>\n",
       "      <td>39.142300</td>\n",
       "      <td>38.570801</td>\n",
       "      <td>38.618500</td>\n",
       "      <td>0.012498</td>\n",
       "      <td>1</td>\n",
       "      <td>0</td>\n",
       "      <td>0</td>\n",
       "      <td>1.0</td>\n",
       "      <td>0.0</td>\n",
       "      <td>0.0</td>\n",
       "    </tr>\n",
       "    <tr>\n",
       "      <th>547</th>\n",
       "      <td>2020-04-10</td>\n",
       "      <td>1101</td>\n",
       "      <td>台泥</td>\n",
       "      <td>39.047001</td>\n",
       "      <td>38.666100</td>\n",
       "      <td>39.047001</td>\n",
       "      <td>38.666100</td>\n",
       "      <td>39.047001</td>\n",
       "      <td>-0.009755</td>\n",
       "      <td>0</td>\n",
       "      <td>0</td>\n",
       "      <td>0</td>\n",
       "      <td>0.0</td>\n",
       "      <td>0.0</td>\n",
       "      <td>1.0</td>\n",
       "    </tr>\n",
       "    <tr>\n",
       "      <th>548</th>\n",
       "      <td>2020-04-13</td>\n",
       "      <td>1101</td>\n",
       "      <td>台泥</td>\n",
       "      <td>38.666100</td>\n",
       "      <td>38.856499</td>\n",
       "      <td>39.142300</td>\n",
       "      <td>38.761299</td>\n",
       "      <td>38.856499</td>\n",
       "      <td>0.002462</td>\n",
       "      <td>1</td>\n",
       "      <td>0</td>\n",
       "      <td>0</td>\n",
       "      <td>0.0</td>\n",
       "      <td>0.0</td>\n",
       "      <td>0.0</td>\n",
       "    </tr>\n",
       "    <tr>\n",
       "      <th>549</th>\n",
       "      <td>2020-04-14</td>\n",
       "      <td>1101</td>\n",
       "      <td>台泥</td>\n",
       "      <td>38.856499</td>\n",
       "      <td>38.856499</td>\n",
       "      <td>39.808899</td>\n",
       "      <td>38.856499</td>\n",
       "      <td>39.666100</td>\n",
       "      <td>0.000000</td>\n",
       "      <td>0</td>\n",
       "      <td>0</td>\n",
       "      <td>1</td>\n",
       "      <td>0.0</td>\n",
       "      <td>0.0</td>\n",
       "      <td>1.0</td>\n",
       "    </tr>\n",
       "  </tbody>\n",
       "</table>\n",
       "</div>"
      ],
      "text/plain": [
       "         TxDate  StockID 有價證券名稱   Open_pre       Open       High        Low  \\\n",
       "520  2020-03-02     1101     台泥  40.189899  39.428001  40.570801  39.428001   \n",
       "521  2020-03-03     1101     台泥  39.428001  40.570801  40.856499  40.475601   \n",
       "522  2020-03-04     1101     台泥  40.570801  40.570801  40.904099  40.570801   \n",
       "523  2020-03-05     1101     台泥  40.570801  40.856499  41.237499  40.808899   \n",
       "524  2020-03-06     1101     台泥  40.856499  41.142200  41.142200  40.475601   \n",
       "525  2020-03-09     1101     台泥  41.142200  40.189899  40.380299  39.713699   \n",
       "526  2020-03-10     1101     台泥  40.189899  39.237499  39.904202  39.237499   \n",
       "527  2020-03-11     1101     台泥  39.237499  39.999401  40.237499  39.713699   \n",
       "528  2020-03-12     1101     台泥  39.999401  39.713699  39.808899  38.475601   \n",
       "529  2020-03-13     1101     台泥  39.713699  37.142300  38.618500  36.475601   \n",
       "530  2020-03-16     1101     台泥  37.142300  38.332699  38.332699  36.999401   \n",
       "531  2020-03-17     1101     台泥  38.332699  36.189899  36.380402  35.666100   \n",
       "532  2020-03-18     1101     台泥  36.189899  35.523300  35.713699  34.285198   \n",
       "533  2020-03-19     1101     台泥  35.523300  33.237598  33.237598  31.761400   \n",
       "534  2020-03-20     1101     台泥  33.237598  32.523300  35.189899  32.523300   \n",
       "535  2020-03-23     1101     台泥  32.523300  34.094700  35.189899  32.856602   \n",
       "536  2020-03-24     1101     台泥  34.094700  36.475601  36.856602  35.999500   \n",
       "537  2020-03-25     1101     台泥  36.475601  37.189899  37.618500  36.856602   \n",
       "538  2020-03-26     1101     台泥  37.189899  37.618500  37.618500  36.713699   \n",
       "539  2020-03-27     1101     台泥  37.618500  37.428001  37.570900  36.951801   \n",
       "540  2020-03-30     1101     台泥  37.428001  36.428001  37.332802  36.189899   \n",
       "541  2020-03-31     1101     台泥  36.428001  37.380402  37.618500  37.142300   \n",
       "542  2020-04-01     1101     台泥  37.380402  37.618500  37.666100  37.142300   \n",
       "543  2020-04-06     1101     台泥  37.618500  37.618500  37.666100  36.666100   \n",
       "544  2020-04-07     1101     台泥  37.618500  37.713699  38.189899  37.618500   \n",
       "545  2020-04-08     1101     台泥  37.713699  38.094700  39.237499  38.094700   \n",
       "546  2020-04-09     1101     台泥  38.094700  39.047001  39.142300  38.570801   \n",
       "547  2020-04-10     1101     台泥  39.047001  38.666100  39.047001  38.666100   \n",
       "548  2020-04-13     1101     台泥  38.666100  38.856499  39.142300  38.761299   \n",
       "549  2020-04-14     1101     台泥  38.856499  38.856499  39.808899  38.856499   \n",
       "\n",
       "         Close  S2_Return  if_neg  if_med  if_pos  pos_1  med_1  neg_1  \n",
       "520  40.237499  -0.018957       0       0       1    0.0    0.0    0.0  \n",
       "521  40.618401   0.026570       0       0       0    1.0    0.0    0.0  \n",
       "522  40.808899   0.000000       0       0       0    0.0    0.0    0.0  \n",
       "523  41.237499   0.005869       0       0       0    0.0    0.0    0.0  \n",
       "524  40.808899  -0.009323       0       0       0    0.0    0.0    0.0  \n",
       "525  39.856499  -0.034721       1       0       0    0.0    0.0    0.0  \n",
       "526  39.618401  -0.023697       0       1       0    0.0    0.0    1.0  \n",
       "527  39.808899   0.012136       1       0       0    0.0    1.0    0.0  \n",
       "528  38.808899  -0.038096       1       0       0    0.0    0.0    1.0  \n",
       "529  38.332699  -0.081536       0       0       1    0.0    0.0    1.0  \n",
       "530  36.999401  -0.003847       0       0       0    1.0    0.0    0.0  \n",
       "531  35.808998  -0.069565       0       0       0    0.0    0.0    0.0  \n",
       "532  34.285198  -0.052631       1       0       0    0.0    0.0    0.0  \n",
       "533  31.999500  -0.105900       1       0       0    0.0    0.0    1.0  \n",
       "534  35.189899  -0.021491       0       0       1    0.0    0.0    1.0  \n",
       "535  34.380402   0.010248       0       0       0    1.0    0.0    0.0  \n",
       "536  36.428001   0.055868       1       0       0    0.0    0.0    0.0  \n",
       "537  36.951801   0.010445       0       0       0    0.0    0.0    1.0  \n",
       "538  36.761299  -0.012805       1       0       0    0.0    0.0    0.0  \n",
       "539  37.094700  -0.017723       1       0       0    0.0    0.0    1.0  \n",
       "540  37.285099  -0.033080       0       0       1    0.0    0.0    1.0  \n",
       "541  37.618500   0.019609       0       0       0    1.0    0.0    0.0  \n",
       "542  37.142300  -0.006370       0       0       0    0.0    0.0    0.0  \n",
       "543  37.189899  -0.025317       1       0       0    0.0    0.0    0.0  \n",
       "544  38.047001   0.000000       0       1       0    0.0    0.0    1.0  \n",
       "545  39.047001   0.010102       0       0       1    0.0    1.0    0.0  \n",
       "546  38.618500   0.012498       1       0       0    1.0    0.0    0.0  \n",
       "547  39.047001  -0.009755       0       0       0    0.0    0.0    1.0  \n",
       "548  38.856499   0.002462       1       0       0    0.0    0.0    0.0  \n",
       "549  39.666100   0.000000       0       0       1    0.0    0.0    1.0  "
      ]
     },
     "execution_count": 142,
     "metadata": {},
     "output_type": "execute_result"
    }
   ],
   "source": [
    "#因為grouping去做feature, 所以兩個column直接做就好了\n",
    "test_data_pf[['TxDate', 'StockID', '有價證券名稱','Open_pre', 'Open', 'High','Low','Close',\\\n",
    "              'S2_Return','if_neg', 'if_med', 'if_pos','pos_1', 'med_1',  'neg_1']][517:547]"
   ]
  },
  {
   "cell_type": "code",
   "execution_count": 143,
   "metadata": {
    "id": "CaDsYsgAxoB2"
   },
   "outputs": [],
   "source": [
    "test_neg_gp = test_data_pf[test_data_pf['neg_1']==1].reset_index(drop=True)\n",
    "test_med_gp = test_data_pf[test_data_pf['med_1']==1].reset_index(drop=True)\n",
    "test_pos_gp = test_data_pf[test_data_pf['pos_1']==1].reset_index(drop=True)"
   ]
  },
  {
   "cell_type": "code",
   "execution_count": 144,
   "metadata": {},
   "outputs": [],
   "source": [
    "test_neg_gp['Tx_Month'] = test_neg_gp['TxDate'][0:7]\n",
    "test_med_gp['Tx_Month'] = test_med_gp['TxDate'][0:7]\n",
    "test_pos_gp['Tx_Month'] = test_pos_gp['TxDate'][0:7]"
   ]
  },
  {
   "cell_type": "markdown",
   "metadata": {},
   "source": [
    "## Visulization"
   ]
  },
  {
   "cell_type": "code",
   "execution_count": 145,
   "metadata": {
    "id": "UdymUb3DzEsp"
   },
   "outputs": [],
   "source": [
    "#Join Base\n",
    "t_plt = test_data[['TxDate','有價證券名稱']]"
   ]
  },
  {
   "cell_type": "code",
   "execution_count": 146,
   "metadata": {
    "colab": {
     "base_uri": "https://localhost:8080/"
    },
    "id": "5mSc23cLzEsu",
    "outputId": "4e4079fc-6ca9-4359-b6c8-6052f96dc8a0"
   },
   "outputs": [
    {
     "name": "stderr",
     "output_type": "stream",
     "text": [
      "<ipython-input-146-d0fe75a58a6b>:1: SettingWithCopyWarning: \n",
      "A value is trying to be set on a copy of a slice from a DataFrame.\n",
      "Try using .loc[row_indexer,col_indexer] = value instead\n",
      "\n",
      "See the caveats in the documentation: https://pandas.pydata.org/pandas-docs/stable/user_guide/indexing.html#returning-a-view-versus-a-copy\n",
      "  t_plt['TxDate_key'] = [datekey[0:7] for datekey in t_plt['TxDate'] ]\n"
     ]
    }
   ],
   "source": [
    "#月化指標\n",
    "t_plt['TxDate_key'] = [datekey[0:7] for datekey in t_plt['TxDate'] ]"
   ]
  },
  {
   "cell_type": "code",
   "execution_count": 147,
   "metadata": {
    "id": "LyKcOpr9zzPx"
   },
   "outputs": [],
   "source": [
    "#neg\n",
    "t_plt_neg = t_plt.merge(test_neg_gp[['TxDate','有價證券名稱','S2_Return']],on =['TxDate','有價證券名稱'] ,how='left')\n",
    "t_plt_neg['S2_Return'] = t_plt_neg['S2_Return'].fillna(0)\n",
    "\n",
    "#med\n",
    "t_plt_med = t_plt.merge(test_med_gp[['TxDate','有價證券名稱','S2_Return']],on =['TxDate','有價證券名稱'] ,how='left')\n",
    "t_plt_med['S2_Return'] = t_plt_med['S2_Return'].fillna(0)\n",
    "\n",
    "#pos\n",
    "t_plt_pos = t_plt.merge(test_pos_gp[['TxDate','有價證券名稱','S2_Return']],on =['TxDate','有價證券名稱'] ,how='left')\n",
    "t_plt_pos['S2_Return'] = t_plt_pos['S2_Return'].fillna(0)\n"
   ]
  },
  {
   "cell_type": "markdown",
   "metadata": {},
   "source": [
    "### 隔日沖年化報酬率"
   ]
  },
  {
   "cell_type": "code",
   "execution_count": 148,
   "metadata": {
    "colab": {
     "base_uri": "https://localhost:8080/"
    },
    "id": "GQ_V7ZWKWWvL",
    "outputId": "b11d47fc-593a-46b8-f592-2c104b390346"
   },
   "outputs": [
    {
     "data": {
      "text/plain": [
       "0.33392540763635775"
      ]
     },
     "execution_count": 148,
     "metadata": {},
     "output_type": "execute_result"
    }
   ],
   "source": [
    "sum(t_plt_pos['S2_Return'])/len(t_plt_pos['S2_Return']) *250"
   ]
  },
  {
   "cell_type": "code",
   "execution_count": 150,
   "metadata": {
    "colab": {
     "base_uri": "https://localhost:8080/"
    },
    "id": "UHT6p6Xz7ck0",
    "outputId": "b850ffbc-f6d6-42fd-fed4-a2a2c34d745c"
   },
   "outputs": [
    {
     "data": {
      "text/plain": [
       "-0.12741662519743024"
      ]
     },
     "execution_count": 150,
     "metadata": {},
     "output_type": "execute_result"
    }
   ],
   "source": [
    "sum(t_plt_med['S2_Return'])/len(t_plt_med['S2_Return']) *250"
   ]
  },
  {
   "cell_type": "code",
   "execution_count": 149,
   "metadata": {
    "colab": {
     "base_uri": "https://localhost:8080/"
    },
    "id": "pE0WS53B7Qu6",
    "outputId": "e5b8c11f-eacc-42a1-ac34-0b5bfebfd601"
   },
   "outputs": [
    {
     "data": {
      "text/plain": [
       "-2.046887767652927"
      ]
     },
     "execution_count": 149,
     "metadata": {},
     "output_type": "execute_result"
    }
   ],
   "source": [
    "sum(t_plt_neg['S2_Return'])/len(t_plt_neg['S2_Return']) *250"
   ]
  },
  {
   "cell_type": "markdown",
   "metadata": {},
   "source": [
    "#### sum return (Monthly)"
   ]
  },
  {
   "cell_type": "code",
   "execution_count": 153,
   "metadata": {},
   "outputs": [
    {
     "data": {
      "image/png": "[encoded data removed]",
      "text/plain": [
       "<Figure size 1440x864 with 1 Axes>"
      ]
     },
     "metadata": {},
     "output_type": "display_data"
    }
   ],
   "source": [
    "#sum return (Daily)\n",
    "import matplotlib.pyplot as plt\n",
    "fig = plt.figure(figsize=(20,12))\n",
    "plt.plot(t_plt_pos.groupby(['TxDate_key'])['S2_Return'].sum().index,\n",
    "         t_plt_pos.groupby(['TxDate_key'])['S2_Return'].sum().values.cumsum(),'-',label = 'test_pos_gp')\n",
    "\n",
    "plt.plot(t_plt_med.groupby(['TxDate_key'])['S2_Return'].sum().index,\n",
    "         t_plt_med.groupby(['TxDate_key'])['S2_Return'].sum().values.cumsum(),'-',label = 'test_pos_gp')\n",
    "\n",
    "plt.plot(t_plt_neg.groupby(['TxDate_key'])['S2_Return'].sum().index,\n",
    "         t_plt_neg.groupby(['TxDate_key'])['S2_Return'].sum().values.cumsum(),'-',label = 'test_pos_gp')\n",
    "\n",
    "plt.grid(True)\n",
    "plt.ylabel('Return(%)')\n",
    "plt.xticks(rotation=60)\n",
    "plt.title('Day-lag trading -Close_Open_Pre -Dailly Cumulative Reurn')\n",
    "\n",
    "plt.show()"
   ]
  },
  {
   "cell_type": "markdown",
   "metadata": {},
   "source": [
    "#### sum return (Daily)"
   ]
  },
  {
   "cell_type": "code",
   "execution_count": 152,
   "metadata": {
    "colab": {
     "base_uri": "https://localhost:8080/",
     "height": 727
    },
    "id": "emDgaK3ux3ax",
    "outputId": "3b374c40-9438-4e14-b97b-3be305770c19"
   },
   "outputs": [
    {
     "data": {
      "image/png": "[encoded data removed]",
      "text/plain": [
       "<Figure size 1440x864 with 1 Axes>"
      ]
     },
     "metadata": {},
     "output_type": "display_data"
    }
   ],
   "source": [
    "#sum return (Daily)\n",
    "import matplotlib.pyplot as plt\n",
    "fig = plt.figure(figsize=(20,12))\n",
    "plt.plot(t_plt_pos.groupby(['TxDate'])['S2_Return'].sum().index,\n",
    "         t_plt_pos.groupby(['TxDate'])['S2_Return'].sum().values.cumsum(),'-',label = 'test_pos_gp')\n",
    "\n",
    "plt.plot(t_plt_med.groupby(['TxDate'])['S2_Return'].sum().index,\n",
    "         t_plt_med.groupby(['TxDate'])['S2_Return'].sum().values.cumsum(),'-',label = 'test_pos_gp')\n",
    "\n",
    "plt.plot(t_plt_neg.groupby(['TxDate'])['S2_Return'].sum().index,\n",
    "         t_plt_neg.groupby(['TxDate'])['S2_Return'].sum().values.cumsum(),'-',label = 'test_pos_gp')\n",
    "\n",
    "plt.grid(True)\n",
    "plt.ylabel('Return(%)')\n",
    "plt.xticks(rotation=60)\n",
    "plt.title('Day-lag trading -Close_Open_Pre -Dailly Cumulative Reurn')\n",
    "\n",
    "plt.show()"
   ]
  }
 ],
 "metadata": {
  "colab": {
   "collapsed_sections": [],
   "name": "Stock_Evaluation.ipynb",
   "provenance": []
  },
  "kernelspec": {
   "display_name": "Python 3",
   "language": "python",
   "name": "python3"
  },
  "language_info": {
   "codemirror_mode": {
    "name": "ipython",
    "version": 3
   },
   "file_extension": ".py",
   "mimetype": "text/x-python",
   "name": "python",
   "nbconvert_exporter": "python",
   "pygments_lexer": "ipython3",
   "version": "3.8.5"
  }
 },
 "nbformat": 4,
 "nbformat_minor": 1
}
