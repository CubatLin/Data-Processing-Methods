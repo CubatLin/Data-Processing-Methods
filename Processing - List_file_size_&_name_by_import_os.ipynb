{
  "nbformat": 4,
  "nbformat_minor": 0,
  "metadata": {
    "colab": {
      "name": "List file size & name by import os.ipynb",
      "provenance": [],
      "collapsed_sections": []
    },
    "kernelspec": {
      "name": "python3",
      "display_name": "Python 3"
    }
  },
  "cells": [
    {
      "cell_type": "code",
      "metadata": {
        "id": "kYtmzfl0ixZv",
        "colab_type": "code",
        "colab": {}
      },
      "source": [
        "%reset -f\n",
        "import os\n",
        "from os.path import join, getsize\n",
        "path = ['/content'] #physical path\n",
        "\n",
        "file_list = [];file_size = [];table_list =[]\n",
        "cnt = 0"
      ],
      "execution_count": 7,
      "outputs": []
    },
    {
      "cell_type": "code",
      "metadata": {
        "id": "sm4WSWDzi90j",
        "colab_type": "code",
        "colab": {
          "base_uri": "https://localhost:8080/",
          "height": 527
        },
        "outputId": "a531e8b7-4934-4edb-de07-0e17c46f4235"
      },
      "source": [
        "%time\n",
        "\n",
        "for path_i in path:\n",
        "    allList = os.walk(path_i)\n",
        "    for tmp_path, dirs, files in allList:\n",
        "    #列出目前讀取到的路徑\n",
        "        print(\"path：\", tmp_path)\n",
        "    #列出在這個路徑下讀取到的資料夾(第一層讀完才會讀第二層)\n",
        "        #print('---------------------------------')\n",
        "        #print(\"directory：\", dirs)\n",
        "    #列出在這個路徑下讀取到的所有檔案\n",
        "        #if os.path.isfile(files) ==\n",
        "        print('---------------------------------')\n",
        "        for tmp_file in files:\n",
        "            if os.path.isfile(tmp_path+\"/\"+tmp_file)==True:\n",
        "                tmp_path_file = tmp_path+\"/\"+tmp_file\n",
        "                file_list.append(tmp_path_file)\n",
        "                file_size.append(getsize(tmp_path_file))\n",
        "                #print(\"Done ! file：\", tmp_path_file)\n",
        "                if  (\".csv\" in tmp_path_file):\n",
        "                    table_list.append(tmp_path_file)\n",
        "                    print(\"Done ! table_file：\", tmp_path_file)\n",
        "                    cnt+=1\n",
        "        print('---------------------------------\\n')"
      ],
      "execution_count": 8,
      "outputs": [
        {
          "output_type": "stream",
          "text": [
            "CPU times: user 2 µs, sys: 0 ns, total: 2 µs\n",
            "Wall time: 4.77 µs\n",
            "path： /content\n",
            "---------------------------------\n",
            "---------------------------------\n",
            "\n",
            "path： /content/.config\n",
            "---------------------------------\n",
            "---------------------------------\n",
            "\n",
            "path： /content/.config/configurations\n",
            "---------------------------------\n",
            "---------------------------------\n",
            "\n",
            "path： /content/.config/logs\n",
            "---------------------------------\n",
            "---------------------------------\n",
            "\n",
            "path： /content/.config/logs/2020.07.30\n",
            "---------------------------------\n",
            "---------------------------------\n",
            "\n",
            "path： /content/sample_data\n",
            "---------------------------------\n",
            "Done ! table_file： /content/sample_data/mnist_test.csv\n",
            "Done ! table_file： /content/sample_data/california_housing_train.csv\n",
            "Done ! table_file： /content/sample_data/mnist_train_small.csv\n",
            "Done ! table_file： /content/sample_data/california_housing_test.csv\n",
            "---------------------------------\n",
            "\n"
          ],
          "name": "stdout"
        }
      ]
    },
    {
      "cell_type": "code",
      "metadata": {
        "id": "QAzZkPUwi_Lw",
        "colab_type": "code",
        "colab": {
          "base_uri": "https://localhost:8080/",
          "height": 51
        },
        "outputId": "0dbec505-def2-4653-ffc0-d8a841ba7737"
      },
      "source": [
        "print(\"Largest file is:\", file_list[file_size.index(max(file_size))] )\n",
        "print(\"Largest element is:\", max(file_size) )"
      ],
      "execution_count": 9,
      "outputs": [
        {
          "output_type": "stream",
          "text": [
            "Largest file is: /content/sample_data/mnist_train_small.csv\n",
            "Largest element is: 36523880\n"
          ],
          "name": "stdout"
        }
      ]
    }
  ]
}
