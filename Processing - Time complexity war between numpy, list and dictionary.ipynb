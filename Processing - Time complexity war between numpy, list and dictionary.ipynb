{
 "cells": [
  {
   "cell_type": "markdown",
   "metadata": {},
   "source": [
    "# 時間管理大師 -羅老師的秘密"
   ]
  },
  {
   "cell_type": "markdown",
   "metadata": {},
   "source": [
    "Case 1:寫入資料"
   ]
  },
  {
   "cell_type": "code",
   "execution_count": 1,
   "metadata": {},
   "outputs": [
    {
     "name": "stdout",
     "output_type": "stream",
     "text": [
      "It cost 12.703161 sec -list\n",
      "It cost 11.761109 sec -deque\n",
      "It cost 13.519251 sec -deque append left\n",
      "It cost 13.519251 sec -dict\n",
      "It cost 14.529953 sec -Numpy\n"
     ]
    }
   ],
   "source": [
    "%reset -f\n",
    "import numpy as np\n",
    "import time\n",
    "from collections import deque\n",
    "\n",
    "#Case1:寫入\n",
    "tStart_list = time.time()\n",
    "x=[]\n",
    "for i in range(100000000):\n",
    "    x.append(i)    \n",
    "tEnd_list = time.time()\n",
    "print (\"It cost %f sec -list\" % (tEnd_list - tStart_list))\n",
    "\n",
    "tStart_list = time.time()\n",
    "deque_x=deque()\n",
    "for i in range(100000000):\n",
    "    deque_x.append(i)    \n",
    "tEnd_list = time.time()\n",
    "print (\"It cost %f sec -deque\" % (tEnd_list - tStart_list))\n",
    "\n",
    "tStart_list = time.time()\n",
    "deque_x_left=deque()\n",
    "for i in range(100000000):\n",
    "    deque_x_left.appendleft(i)    \n",
    "tEnd_list = time.time()\n",
    "print (\"It cost %f sec -deque append left\" % (tEnd_list - tStart_list))\n",
    "\n",
    "tStart_dic = time.time()\n",
    "dic_x={}\n",
    "for i in range(100000000):\n",
    "    dic_x[i]=i    \n",
    "tEnd_dic = time.time()\n",
    "print (\"It cost %f sec -dict\" % (tEnd_list - tStart_list))\n",
    "\n",
    "tStart_np = time.time()\n",
    "y= np.zeros(100000000)#結構化資料要先畫格子\n",
    "for i in range(100000000):\n",
    "    y[i]=i\n",
    "tEnd_np = time.time()\n",
    "print (\"It cost %f sec -Numpy\" % (tEnd_np - tStart_np))"
   ]
  },
  {
   "cell_type": "markdown",
   "metadata": {},
   "source": [
    "Case 2:查詢(線性 -連續區間) deque直接出局 不用測了"
   ]
  },
  {
   "cell_type": "code",
   "execution_count": 2,
   "metadata": {},
   "outputs": [
    {
     "name": "stdout",
     "output_type": "stream",
     "text": [
      "It cost 20.840020 sec -list\n",
      "It cost 13.519251 sec -dict\n",
      "It cost 8.314501 sec -Numpy\n"
     ]
    }
   ],
   "source": [
    "#Case 2:查詢(線性)\n",
    "tStart = time.time()\n",
    "for i in x:\n",
    "    i\n",
    "tEnd = time.time()\n",
    "print (\"It cost %f sec -list\" % (tEnd - tStart))\n",
    "\n",
    "tStart_dic = time.time()\n",
    "dic_x={}\n",
    "for i in dic_x:\n",
    "    i\n",
    "tEnd_dic = time.time()\n",
    "print (\"It cost %f sec -dict\" % (tEnd_list - tStart_list))\n",
    "\n",
    "tStart = time.time()\n",
    "for i in y:\n",
    "    i\n",
    "tEnd = time.time()\n",
    "print (\"It cost %f sec -Numpy\" % (tEnd - tStart))"
   ]
  },
  {
   "cell_type": "markdown",
   "metadata": {},
   "source": [
    "Case 3:查詢(區間 - 跳躍式查詢 移動指向游標)"
   ]
  },
  {
   "cell_type": "code",
   "execution_count": 3,
   "metadata": {},
   "outputs": [
    {
     "name": "stdout",
     "output_type": "stream",
     "text": [
      "It cost 0.521103 sec -list\n",
      "It cost 13.519251 sec -dict\n",
      "It cost 0.030920 sec -Numpy\n"
     ]
    }
   ],
   "source": [
    "#Case 3:查詢(區間)\n",
    "range_int = np.random.randint(100000000, size=100000)\n",
    "tStart = time.time()\n",
    "for i in range_int:\n",
    "    x[i]\n",
    "tEnd = time.time()\n",
    "print (\"It cost %f sec -list\" % (tEnd - tStart))\n",
    "\n",
    "tStart_dic = time.time()\n",
    "dic_x={}\n",
    "for i in range_int:\n",
    "    dic_x.get(i) #get超慢\n",
    "tEnd_dic = time.time()\n",
    "print (\"It cost %f sec -dict\" % (tEnd_list - tStart_list))\n",
    "\n",
    "tStart = time.time()\n",
    "for i in range_int:\n",
    "    y[i]\n",
    "tEnd = time.time()\n",
    "print (\"It cost %f sec -Numpy\" % (tEnd - tStart))"
   ]
  },
  {
   "cell_type": "markdown",
   "metadata": {},
   "source": [
    "Case 4:Stacking"
   ]
  },
  {
   "cell_type": "code",
   "execution_count": 4,
   "metadata": {
    "scrolled": true
   },
   "outputs": [
    {
     "name": "stdout",
     "output_type": "stream",
     "text": [
      "It cost 50.301909 sec -list\n",
      "It cost 13.519251 sec -dict\n",
      "It cost 34.536681 sec -Numpy\n"
     ]
    }
   ],
   "source": [
    "#Case 4:Stacking\n",
    "tStart = time.time()\n",
    "tmp = 0 ;cnt=1\n",
    "for i in range(len(x)):\n",
    "    tmp+=i\n",
    "    x[i]=tmp/cnt\n",
    "    cnt+=1\n",
    "tEnd = time.time()\n",
    "print (\"It cost %f sec -list\" % (tEnd - tStart))\n",
    "\n",
    "tStart_dic = time.time()\n",
    "tmp = 0 ;cnt=1\n",
    "dic_x={}\n",
    "for i in range(len(dic_x)):\n",
    "    tmp+=i\n",
    "    dic_x[i]=tmp/cnt \n",
    "    cnt+=1\n",
    "tEnd_dic = time.time()\n",
    "print (\"It cost %f sec -dict\" % (tEnd_list - tStart_list))\n",
    "\n",
    "tStart = time.time()\n",
    "tmp = 0 ;cnt=1\n",
    "for i in range(len(y)):\n",
    "    tmp+=i\n",
    "    y[i]=tmp/cnt \n",
    "    cnt+=1\n",
    "tEnd = time.time()\n",
    "print (\"It cost %f sec -Numpy\" % (tEnd - tStart))"
   ]
  },
  {
   "cell_type": "markdown",
   "metadata": {},
   "source": [
    "# 測試結論:依時間短至長排名"
   ]
  },
  {
   "cell_type": "markdown",
   "metadata": {},
   "source": [
    "- for迴圈寫入資料:deque>=list>=dictionary>NumPy\n",
    "- 查詢資料(線性):NumPy>dictionary>list\n",
    "- 查詢資料(任意):NumPy>list>dictionary(有get)\n",
    "- 邊遍歷邊更新資料:dictionary>Numpy>list"
   ]
  },
  {
   "cell_type": "markdown",
   "metadata": {},
   "source": [
    "寫入用list,轉乘array運算即可; Numpy array用來查詢很快&善用Method; Stacking用dictionary最快"
   ]
  }
 ],
 "metadata": {
  "kernelspec": {
   "display_name": "Python 3",
   "language": "python",
   "name": "python3"
  },
  "language_info": {
   "codemirror_mode": {
    "name": "ipython",
    "version": 3
   },
   "file_extension": ".py",
   "mimetype": "text/x-python",
   "name": "python",
   "nbconvert_exporter": "python",
   "pygments_lexer": "ipython3",
   "version": "3.7.4"
  }
 },
 "nbformat": 4,
 "nbformat_minor": 2
}
