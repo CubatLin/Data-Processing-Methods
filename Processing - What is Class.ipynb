{
 "cells": [
  {
   "cell_type": "markdown",
   "metadata": {},
   "source": [
    "# Class:類別 "
   ]
  },
  {
   "cell_type": "markdown",
   "metadata": {},
   "source": [
    "### 如何理解?"
   ]
  },
  {
   "cell_type": "markdown",
   "metadata": {},
   "source": [
    "* Python每個物件下面都有自己的屬性(Attribute)，Class就是自己刻一種物件的意思\n",
    "* 自己定義一種物件，再把變數指定為這種物件\n",
    "* 可以把Class當做由 __init__ 與其他 def所構成，以下分述\n",
    "* __init__ : 第一個參數必為self，指的是變數本身；後面的則為初始傳入的參數\n",
    "* def : 指的是這個物件下的module，可以運用物件本身的module的意思\n",
    "* 初始參數傳入並不一定要存在self中\n"
   ]
  },
  {
   "cell_type": "markdown",
   "metadata": {},
   "source": [
    "### 舉一個最簡單的例子"
   ]
  },
  {
   "cell_type": "markdown",
   "metadata": {},
   "source": [
    "* 定義一種類別Cars，其中將車的顏色 & 座位數存到物件本身(查詢快速使用)\n",
    "* 定義drive function, 能得到車子是什麼顏色 & 幾人座的句子\n",
    "* Ref : https://www.learncodewithmike.com/2020/01/python-class.html"
   ]
  },
  {
   "cell_type": "code",
   "execution_count": 1,
   "metadata": {},
   "outputs": [],
   "source": [
    "class Cars:\n",
    "    # 建構式\n",
    "    def __init__(self, color, seat):\n",
    "        self.color = color  # 顏色屬性\n",
    "        self.seat = seat  # 座位屬性\n",
    "    # 方法(Method)\n",
    "    def drive(self):\n",
    "        print(f\"My car is {self.color} and {self.seat} seats.\")"
   ]
  },
  {
   "cell_type": "code",
   "execution_count": 2,
   "metadata": {},
   "outputs": [],
   "source": [
    "x = Cars(\"Red\",5)"
   ]
  },
  {
   "cell_type": "code",
   "execution_count": 3,
   "metadata": {},
   "outputs": [
    {
     "data": {
      "text/plain": [
       "<bound method Cars.__init__ of <__main__.Cars object at 0x0000022EA2F36388>>"
      ]
     },
     "execution_count": 3,
     "metadata": {},
     "output_type": "execute_result"
    }
   ],
   "source": [
    "x.__init__"
   ]
  },
  {
   "cell_type": "code",
   "execution_count": 4,
   "metadata": {},
   "outputs": [
    {
     "data": {
      "text/plain": [
       "'Red'"
      ]
     },
     "execution_count": 4,
     "metadata": {},
     "output_type": "execute_result"
    }
   ],
   "source": [
    "x.color"
   ]
  },
  {
   "cell_type": "code",
   "execution_count": 5,
   "metadata": {},
   "outputs": [
    {
     "data": {
      "text/plain": [
       "5"
      ]
     },
     "execution_count": 5,
     "metadata": {},
     "output_type": "execute_result"
    }
   ],
   "source": [
    "x.seat"
   ]
  },
  {
   "cell_type": "code",
   "execution_count": 6,
   "metadata": {},
   "outputs": [
    {
     "data": {
      "text/plain": [
       "<bound method Cars.drive of <__main__.Cars object at 0x0000022EA2F36388>>"
      ]
     },
     "execution_count": 6,
     "metadata": {},
     "output_type": "execute_result"
    }
   ],
   "source": [
    "# 將self物件本身傳入drive fucntion\n",
    "x.drive"
   ]
  },
  {
   "cell_type": "code",
   "execution_count": 7,
   "metadata": {},
   "outputs": [
    {
     "name": "stdout",
     "output_type": "stream",
     "text": [
      "My car is Red and 5 seats.\n"
     ]
    }
   ],
   "source": [
    "x.drive()"
   ]
  },
  {
   "cell_type": "markdown",
   "metadata": {},
   "source": [
    "### 透過傳入參數計算後存在self本身，並進行運用"
   ]
  },
  {
   "cell_type": "code",
   "execution_count": 8,
   "metadata": {},
   "outputs": [],
   "source": [
    "class CalCulators:\n",
    "    def __init__(self,x1,x2):\n",
    "        self.sum = x1+x2\n",
    "    def SumResult(self):\n",
    "        print(f\"Sum Value of x1 & x2 is {self.sum} .\")"
   ]
  },
  {
   "cell_type": "code",
   "execution_count": 10,
   "metadata": {},
   "outputs": [],
   "source": [
    "test_cal = CalCulators(1,2)"
   ]
  },
  {
   "cell_type": "code",
   "execution_count": 11,
   "metadata": {},
   "outputs": [
    {
     "name": "stdout",
     "output_type": "stream",
     "text": [
      "Sum Value of x1 & x2 is 3 .\n"
     ]
    }
   ],
   "source": [
    "test_cal.SumResult()"
   ]
  }
 ],
 "metadata": {
  "kernelspec": {
   "display_name": "Python 3",
   "language": "python",
   "name": "python3"
  },
  "language_info": {
   "codemirror_mode": {
    "name": "ipython",
    "version": 3
   },
   "file_extension": ".py",
   "mimetype": "text/x-python",
   "name": "python",
   "nbconvert_exporter": "python",
   "pygments_lexer": "ipython3",
   "version": "3.7.4"
  }
 },
 "nbformat": 4,
 "nbformat_minor": 2
}
