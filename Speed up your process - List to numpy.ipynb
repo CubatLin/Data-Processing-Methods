{
 "cells": [
  {
   "cell_type": "code",
   "execution_count": 1,
   "metadata": {},
   "outputs": [],
   "source": [
    "%reset -f\n",
    "import numpy as np\n",
    "import time\n",
    "import sys"
   ]
  },
  {
   "cell_type": "code",
   "execution_count": 4,
   "metadata": {},
   "outputs": [
    {
     "name": "stdout",
     "output_type": "stream",
     "text": [
      "It cost 8.166855 sec -list\n",
      "a1_list file size: 536721616\n"
     ]
    }
   ],
   "source": [
    "#Case1:use append a lot!\n",
    "\n",
    "tStart_list = time.time()\n",
    "\n",
    "a1_list = []\n",
    "for i in range(66666666):\n",
    "    a1_list.append(i)\n",
    "    \n",
    "tEnd_list = time.time()\n",
    "print (\"It cost %f sec -list\" % (tEnd_list - tStart_list))    \n",
    "print(\"a1_list file size: \"+str(sys.getsizeof(a1_list) ) )"
   ]
  },
  {
   "cell_type": "code",
   "execution_count": 5,
   "metadata": {},
   "outputs": [
    {
     "name": "stdout",
     "output_type": "stream",
     "text": [
      "It cost 6.803021 sec \n",
      "a2_list file size: 536721616\n"
     ]
    }
   ],
   "source": [
    "#Case2:Don's use append!\n",
    "\n",
    "tStart_list = time.time()\n",
    "\n",
    "a2_list = [i*i for i in range(66666666)]\n",
    "    \n",
    "tEnd_list = time.time()\n",
    "print (\"It cost %f sec \" % (tEnd_list - tStart_list))    \n",
    "print(\"a2_list file size: \"+str(sys.getsizeof(a2_list) ) )"
   ]
  },
  {
   "cell_type": "code",
   "execution_count": 6,
   "metadata": {},
   "outputs": [
    {
     "name": "stdout",
     "output_type": "stream",
     "text": [
      "a3_array file size: 533333424\n"
     ]
    }
   ],
   "source": [
    "#Case3:List to array to save your memory\n",
    "#Continuous means you don't need pointer!\n",
    "\n",
    "a3_array = np.array(a2_list)\n",
    "print(\"a3_array file size: \"+str(sys.getsizeof(a3_array) ) )"
   ]
  }
 ],
 "metadata": {
  "kernelspec": {
   "display_name": "Python 3",
   "language": "python",
   "name": "python3"
  },
  "language_info": {
   "codemirror_mode": {
    "name": "ipython",
    "version": 3
   },
   "file_extension": ".py",
   "mimetype": "text/x-python",
   "name": "python",
   "nbconvert_exporter": "python",
   "pygments_lexer": "ipython3",
   "version": "3.7.4"
  }
 },
 "nbformat": 4,
 "nbformat_minor": 2
}
